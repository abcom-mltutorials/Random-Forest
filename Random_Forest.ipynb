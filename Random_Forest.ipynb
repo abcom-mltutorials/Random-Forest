{
  "nbformat": 4,
  "nbformat_minor": 0,
  "metadata": {
    "colab": {
      "name": "Random-Forest - final.ipynb",
      "provenance": [],
      "collapsed_sections": []
    },
    "kernelspec": {
      "name": "python3",
      "display_name": "Python 3"
    },
    "accelerator": "GPU"
  },
  "cells": [
    {
      "cell_type": "markdown",
      "metadata": {
        "id": "oo_zMl1rNB0T"
      },
      "source": [
        "# Random Forest "
      ]
    },
    {
      "cell_type": "markdown",
      "metadata": {
        "id": "c0TqZ8vWM4_N"
      },
      "source": [
        "Copyright @ 2020 **ABCOM Information Systems Pvt. Ltd.** All Rights Reserved.\n",
        "\n",
        "Licensed under the Apache License, Version 2.0 (the \"License\"); you may not use this file except in compliance with the License. You may obtain a copy of the License at\n",
        "\n",
        "http://www.apache.org/licenses/LICENSE-2.0\n",
        "\n",
        "Unless required by applicable law or agreed to in writing, software distributed under the License is distributed on an \"AS IS\" BASIS, WITHOUT WARRANTIES OR CONDITIONS OF ANY KIND, either express or implied.\n",
        "\n",
        "See the License for the specific language governing permissions and limitations under the License."
      ]
    },
    {
      "cell_type": "code",
      "metadata": {
        "id": "ppi7mqPRL0yv"
      },
      "source": [
        "from random import randrange\n",
        "import pandas as pd\n",
        "import math\n",
        "from math import sqrt\n",
        "import seaborn as sns \n",
        "import matplotlib.pyplot as plt"
      ],
      "execution_count": null,
      "outputs": []
    },
    {
      "cell_type": "markdown",
      "metadata": {
        "id": "8637VQphuyCu"
      },
      "source": [
        "# Loading data"
      ]
    },
    {
      "cell_type": "code",
      "metadata": {
        "id": "CUn_rCeZLJG-",
        "outputId": "d65d38e0-6225-4b52-8d6e-75b221a83d70",
        "colab": {
          "base_uri": "https://localhost:8080/"
        }
      },
      "source": [
        "!wget https://raw.githubusercontent.com/abcom-mltutorials/Random-Forest/master/datasets_727551_1263738_heart_failure_clinical_records_dataset.csv"
      ],
      "execution_count": null,
      "outputs": [
        {
          "output_type": "stream",
          "text": [
            "--2020-11-13 04:30:44--  https://raw.githubusercontent.com/abcom-mltutorials/Random-Forest/master/datasets_727551_1263738_heart_failure_clinical_records_dataset.csv\n",
            "Resolving raw.githubusercontent.com (raw.githubusercontent.com)... 151.101.0.133, 151.101.64.133, 151.101.128.133, ...\n",
            "Connecting to raw.githubusercontent.com (raw.githubusercontent.com)|151.101.0.133|:443... connected.\n",
            "HTTP request sent, awaiting response... 200 OK\n",
            "Length: 4257 (4.2K) [text/plain]\n",
            "Saving to: ‘datasets_727551_1263738_heart_failure_clinical_records_dataset.csv’\n",
            "\n",
            "\r          datasets_   0%[                    ]       0  --.-KB/s               \rdatasets_727551_126 100%[===================>]   4.16K  --.-KB/s    in 0s      \n",
            "\n",
            "2020-11-13 04:30:44 (61.6 MB/s) - ‘datasets_727551_1263738_heart_failure_clinical_records_dataset.csv’ saved [4257/4257]\n",
            "\n"
          ],
          "name": "stdout"
        }
      ]
    },
    {
      "cell_type": "code",
      "metadata": {
        "id": "WVlT2et39YAF"
      },
      "source": [
        "dset = pd.read_csv(\"datasets_727551_1263738_heart_failure_clinical_records_dataset.csv\")"
      ],
      "execution_count": null,
      "outputs": []
    },
    {
      "cell_type": "markdown",
      "metadata": {
        "id": "oek9t_46u4T2"
      },
      "source": [
        "# Describing dataset"
      ]
    },
    {
      "cell_type": "code",
      "metadata": {
        "id": "cwPa9mAfsFck",
        "outputId": "e264ad93-ca54-4f8e-ccb5-393774f5d324",
        "colab": {
          "base_uri": "https://localhost:8080/"
        }
      },
      "source": [
        "dset.columns"
      ],
      "execution_count": null,
      "outputs": [
        {
          "output_type": "execute_result",
          "data": {
            "text/plain": [
              "Index(['age', 'anaemia', 'creatinine_phosphokinase', 'diabetes',\n",
              "       'ejection_fraction', 'high_blood_pressure', 'platelets',\n",
              "       'serum_creatinine', 'serum_sodium', 'sex', 'smoking', 'time',\n",
              "       'DEATH_EVENT'],\n",
              "      dtype='object')"
            ]
          },
          "metadata": {
            "tags": []
          },
          "execution_count": 4
        }
      ]
    },
    {
      "cell_type": "code",
      "metadata": {
        "id": "lb5175MpsbRk",
        "outputId": "0f914e64-f867-4f70-8e1c-1f5792d68a5b",
        "colab": {
          "base_uri": "https://localhost:8080/",
          "height": 320
        }
      },
      "source": [
        "dset.describe()"
      ],
      "execution_count": null,
      "outputs": [
        {
          "output_type": "execute_result",
          "data": {
            "text/html": [
              "<div>\n",
              "<style scoped>\n",
              "    .dataframe tbody tr th:only-of-type {\n",
              "        vertical-align: middle;\n",
              "    }\n",
              "\n",
              "    .dataframe tbody tr th {\n",
              "        vertical-align: top;\n",
              "    }\n",
              "\n",
              "    .dataframe thead th {\n",
              "        text-align: right;\n",
              "    }\n",
              "</style>\n",
              "<table border=\"1\" class=\"dataframe\">\n",
              "  <thead>\n",
              "    <tr style=\"text-align: right;\">\n",
              "      <th></th>\n",
              "      <th>age</th>\n",
              "      <th>anaemia</th>\n",
              "      <th>creatinine_phosphokinase</th>\n",
              "      <th>diabetes</th>\n",
              "      <th>ejection_fraction</th>\n",
              "      <th>high_blood_pressure</th>\n",
              "      <th>platelets</th>\n",
              "      <th>serum_creatinine</th>\n",
              "      <th>serum_sodium</th>\n",
              "      <th>sex</th>\n",
              "      <th>smoking</th>\n",
              "      <th>time</th>\n",
              "      <th>DEATH_EVENT</th>\n",
              "    </tr>\n",
              "  </thead>\n",
              "  <tbody>\n",
              "    <tr>\n",
              "      <th>count</th>\n",
              "      <td>101.000000</td>\n",
              "      <td>101.000000</td>\n",
              "      <td>101.000000</td>\n",
              "      <td>101.000000</td>\n",
              "      <td>101.000000</td>\n",
              "      <td>101.000000</td>\n",
              "      <td>101.000000</td>\n",
              "      <td>101.000000</td>\n",
              "      <td>101.000000</td>\n",
              "      <td>101.000000</td>\n",
              "      <td>101.000000</td>\n",
              "      <td>101.000000</td>\n",
              "      <td>101.000000</td>\n",
              "    </tr>\n",
              "    <tr>\n",
              "      <th>mean</th>\n",
              "      <td>63.673267</td>\n",
              "      <td>0.485149</td>\n",
              "      <td>547.138614</td>\n",
              "      <td>0.445545</td>\n",
              "      <td>36.633663</td>\n",
              "      <td>0.445545</td>\n",
              "      <td>262942.794752</td>\n",
              "      <td>1.572871</td>\n",
              "      <td>136.237624</td>\n",
              "      <td>0.663366</td>\n",
              "      <td>0.326733</td>\n",
              "      <td>45.752475</td>\n",
              "      <td>0.653465</td>\n",
              "    </tr>\n",
              "    <tr>\n",
              "      <th>std</th>\n",
              "      <td>12.844539</td>\n",
              "      <td>0.502272</td>\n",
              "      <td>1274.032527</td>\n",
              "      <td>0.499505</td>\n",
              "      <td>13.329458</td>\n",
              "      <td>0.499505</td>\n",
              "      <td>85585.736145</td>\n",
              "      <td>1.261770</td>\n",
              "      <td>4.688600</td>\n",
              "      <td>0.474915</td>\n",
              "      <td>0.471358</td>\n",
              "      <td>26.712321</td>\n",
              "      <td>0.478239</td>\n",
              "    </tr>\n",
              "    <tr>\n",
              "      <th>min</th>\n",
              "      <td>41.000000</td>\n",
              "      <td>0.000000</td>\n",
              "      <td>23.000000</td>\n",
              "      <td>0.000000</td>\n",
              "      <td>14.000000</td>\n",
              "      <td>0.000000</td>\n",
              "      <td>47000.000000</td>\n",
              "      <td>0.600000</td>\n",
              "      <td>116.000000</td>\n",
              "      <td>0.000000</td>\n",
              "      <td>0.000000</td>\n",
              "      <td>4.000000</td>\n",
              "      <td>0.000000</td>\n",
              "    </tr>\n",
              "    <tr>\n",
              "      <th>25%</th>\n",
              "      <td>55.000000</td>\n",
              "      <td>0.000000</td>\n",
              "      <td>94.000000</td>\n",
              "      <td>0.000000</td>\n",
              "      <td>25.000000</td>\n",
              "      <td>0.000000</td>\n",
              "      <td>210000.000000</td>\n",
              "      <td>1.000000</td>\n",
              "      <td>134.000000</td>\n",
              "      <td>0.000000</td>\n",
              "      <td>0.000000</td>\n",
              "      <td>23.000000</td>\n",
              "      <td>0.000000</td>\n",
              "    </tr>\n",
              "    <tr>\n",
              "      <th>50%</th>\n",
              "      <td>63.000000</td>\n",
              "      <td>0.000000</td>\n",
              "      <td>160.000000</td>\n",
              "      <td>0.000000</td>\n",
              "      <td>35.000000</td>\n",
              "      <td>0.000000</td>\n",
              "      <td>263358.030000</td>\n",
              "      <td>1.180000</td>\n",
              "      <td>137.000000</td>\n",
              "      <td>1.000000</td>\n",
              "      <td>0.000000</td>\n",
              "      <td>43.000000</td>\n",
              "      <td>1.000000</td>\n",
              "    </tr>\n",
              "    <tr>\n",
              "      <th>75%</th>\n",
              "      <td>70.000000</td>\n",
              "      <td>1.000000</td>\n",
              "      <td>582.000000</td>\n",
              "      <td>1.000000</td>\n",
              "      <td>45.000000</td>\n",
              "      <td>1.000000</td>\n",
              "      <td>310000.000000</td>\n",
              "      <td>1.830000</td>\n",
              "      <td>140.000000</td>\n",
              "      <td>1.000000</td>\n",
              "      <td>1.000000</td>\n",
              "      <td>73.000000</td>\n",
              "      <td>1.000000</td>\n",
              "    </tr>\n",
              "    <tr>\n",
              "      <th>max</th>\n",
              "      <td>95.000000</td>\n",
              "      <td>1.000000</td>\n",
              "      <td>7861.000000</td>\n",
              "      <td>1.000000</td>\n",
              "      <td>80.000000</td>\n",
              "      <td>1.000000</td>\n",
              "      <td>497000.000000</td>\n",
              "      <td>9.400000</td>\n",
              "      <td>146.000000</td>\n",
              "      <td>1.000000</td>\n",
              "      <td>1.000000</td>\n",
              "      <td>87.000000</td>\n",
              "      <td>1.000000</td>\n",
              "    </tr>\n",
              "  </tbody>\n",
              "</table>\n",
              "</div>"
            ],
            "text/plain": [
              "              age     anaemia  ...        time  DEATH_EVENT\n",
              "count  101.000000  101.000000  ...  101.000000   101.000000\n",
              "mean    63.673267    0.485149  ...   45.752475     0.653465\n",
              "std     12.844539    0.502272  ...   26.712321     0.478239\n",
              "min     41.000000    0.000000  ...    4.000000     0.000000\n",
              "25%     55.000000    0.000000  ...   23.000000     0.000000\n",
              "50%     63.000000    0.000000  ...   43.000000     1.000000\n",
              "75%     70.000000    1.000000  ...   73.000000     1.000000\n",
              "max     95.000000    1.000000  ...   87.000000     1.000000\n",
              "\n",
              "[8 rows x 13 columns]"
            ]
          },
          "metadata": {
            "tags": []
          },
          "execution_count": 5
        }
      ]
    },
    {
      "cell_type": "markdown",
      "metadata": {
        "id": "WCLgDt7lu8Ko"
      },
      "source": [
        "# Understanding correlation between features"
      ]
    },
    {
      "cell_type": "code",
      "metadata": {
        "id": "nVsccpc9oHH_",
        "outputId": "53e4616b-2013-4191-f19d-34a12f6a5c4d",
        "colab": {
          "base_uri": "https://localhost:8080/",
          "height": 624
        }
      },
      "source": [
        "corrmat = dset.corr()   \n",
        "f, ax = plt.subplots(figsize =(9, 8)) \n",
        "cg = sns.heatmap(corrmat, ax = ax, cmap =\"YlGnBu\", linewidths = 0.1) \n",
        "cg"
      ],
      "execution_count": null,
      "outputs": [
        {
          "output_type": "execute_result",
          "data": {
            "text/plain": [
              "<matplotlib.axes._subplots.AxesSubplot at 0x7f9014647b38>"
            ]
          },
          "metadata": {
            "tags": []
          },
          "execution_count": 6
        },
        {
          "output_type": "display_data",
          "data": {
            "image/png": "[encoded data removed]",
            "text/plain": [
              "<Figure size 648x576 with 2 Axes>"
            ]
          },
          "metadata": {
            "tags": [],
            "needs_background": "light"
          }
        }
      ]
    },
    {
      "cell_type": "code",
      "metadata": {
        "id": "o9DmVCSg4QRB"
      },
      "source": [
        "# convert to Python list\n",
        "dset = dset.values.tolist()"
      ],
      "execution_count": null,
      "outputs": []
    },
    {
      "cell_type": "markdown",
      "metadata": {
        "id": "E2Da19SWtSEF"
      },
      "source": [
        "# Utility functions"
      ]
    },
    {
      "cell_type": "markdown",
      "metadata": {
        "id": "kZA2gtW_tWAQ"
      },
      "source": [
        "## Splitting dataset"
      ]
    },
    {
      "cell_type": "code",
      "metadata": {
        "id": "rQNAW9EoNo7r"
      },
      "source": [
        "def testsplit(index, value, dset):\n",
        "\tleft, right = list(), list()\n",
        "\tfor row in dset:\n",
        "\t\tif row[index] > value:\n",
        "\t\t\tright.append(row)\n",
        "\t\telse:\n",
        "\t\t\tleft.append(row)\n",
        "\treturn left, right"
      ],
      "execution_count": null,
      "outputs": []
    },
    {
      "cell_type": "markdown",
      "metadata": {
        "id": "m8yvLLUv7lhg"
      },
      "source": [
        "## Class count\n"
      ]
    },
    {
      "cell_type": "code",
      "metadata": {
        "id": "B9ErwGzu027P"
      },
      "source": [
        "def class_counts(group):\n",
        "    counts = {}  \n",
        "    for row in group:\n",
        "        label = row[-1]\n",
        "        if label not in counts:\n",
        "            counts[label] = 0\n",
        "        counts[label] += 1\n",
        "    return counts"
      ],
      "execution_count": null,
      "outputs": []
    },
    {
      "cell_type": "markdown",
      "metadata": {
        "id": "On-SC3a22jMJ"
      },
      "source": [
        "## Entropy"
      ]
    },
    {
      "cell_type": "code",
      "metadata": {
        "id": "2TdklbosXp3T"
      },
      "source": [
        "def entropy(group):\n",
        "    entries = class_counts(group)\n",
        "    avg_entropy = 0\n",
        "    size = float(len(group))\n",
        "    for label in entries:\n",
        "        prob = entries[label] / size\n",
        "        avg_entropy = (avg_entropy \n",
        "                  + (prob * math.log(prob, 2)))\n",
        "    return -1*avg_entropy"
      ],
      "execution_count": null,
      "outputs": []
    },
    {
      "cell_type": "markdown",
      "metadata": {
        "id": "rsIIKQrt8Eg0"
      },
      "source": [
        "\n",
        "\n",
        "## Group Entropy"
      ]
    },
    {
      "cell_type": "code",
      "metadata": {
        "id": "OWS53p91fl2w"
      },
      "source": [
        "def Entropy_Groups(groups, classes):\n",
        "  n_instances = float(sum([len(group) for group in groups]))\n",
        "  Entropy = 0.0\n",
        "  for group in groups:\n",
        "    size = float(len(group))\n",
        "    Entropy_group = entropy(group)\n",
        "    Entropy += (Entropy_group) * (size / n_instances)\n",
        "  return Entropy"
      ],
      "execution_count": null,
      "outputs": []
    },
    {
      "cell_type": "markdown",
      "metadata": {
        "id": "niZGB3BOvVwz"
      },
      "source": [
        "## Split"
      ]
    },
    {
      "cell_type": "code",
      "metadata": {
        "id": "2wH7hJuhALrh"
      },
      "source": [
        "def get_split(dset, number_of_features):\n",
        "  classval = list(set(row[-1] for row in dset))\n",
        "  updated_index = 500\n",
        "  split_value = 500\n",
        "  score = 1\n",
        "  split_groups = None\n",
        "  features = list()\n",
        "  while len(features) < number_of_features:\n",
        "    index = randrange(len(dset[0])-1)\n",
        "    if index not in features:\n",
        "       features.append(index)\n",
        "  for index in features:\n",
        "    for row in dset:\n",
        "      groups = testsplit(index, row[index], dset)\n",
        "      Entropy = Entropy_Groups(groups, classval)\n",
        "      if Entropy < score:\n",
        "        updated_index = index\n",
        "        split_value = row[index]\n",
        "        score = Entropy\n",
        "        split_groups = groups\n",
        "  return {'index':updated_index, 'value':split_value,\n",
        "                     'groups':split_groups}"
      ],
      "execution_count": null,
      "outputs": []
    },
    {
      "cell_type": "markdown",
      "metadata": {
        "id": "vr6HrI8o3-Vf"
      },
      "source": [
        "## The to_terminal function \n",
        "returns the class with highest number of elements in the group as output.\n",
        "\n",
        "\n",
        "\n",
        "\n",
        "\n"
      ]
    },
    {
      "cell_type": "markdown",
      "metadata": {
        "id": "k_QkMOrHzcuX"
      },
      "source": [
        ""
      ]
    },
    {
      "cell_type": "code",
      "metadata": {
        "id": "_MNkulMKN82d"
      },
      "source": [
        "def to_terminal(group):\n",
        "\toutcomes = [row[-1] for row in group]\n",
        "\treturn max(set(outcomes), key=outcomes.count)"
      ],
      "execution_count": null,
      "outputs": []
    },
    {
      "cell_type": "markdown",
      "metadata": {
        "id": "cgONvmjx7_I0"
      },
      "source": [
        "## Tree termination"
      ]
    },
    {
      "cell_type": "code",
      "metadata": {
        "id": "CNA0zyECB1Rb"
      },
      "source": [
        "def split(node, max_depth, min_size, \n",
        "                  number_of_features, depth):\n",
        "  left, right = node['groups']\n",
        "  del(node['groups'])\n",
        "  # check for a no split\n",
        "  if not left or not right:\n",
        "    node['left'] =  to_terminal(left + right)\n",
        "    node['right'] = to_terminal(left + right)\n",
        "    return\n",
        " \t# check for max depth\n",
        "  if depth >= max_depth:\n",
        "    node['left'] = to_terminal(left)\n",
        "    node['right'] = to_terminal(right)\n",
        "    return\n",
        "  # process left child\n",
        "  if len(left) <= min_size:\n",
        "    node['left'] = to_terminal(left)\n",
        "  else:\n",
        "    node['left'] = get_split(left, number_of_features)\n",
        "    split(node['left'], max_depth, min_size,\n",
        "          number_of_features, depth+1)\n",
        "\t# process right child\n",
        "  if len(right) <= min_size:\n",
        "    node['right'] = to_terminal(right)\n",
        "  else:\n",
        "    node['right'] = get_split(right, number_of_features)\n",
        "    split(node['right'], max_depth, min_size,\n",
        "               number_of_features, depth+1)"
      ],
      "execution_count": null,
      "outputs": []
    },
    {
      "cell_type": "markdown",
      "metadata": {
        "id": "ky6oBLQcKT0f"
      },
      "source": [
        "## Build tree"
      ]
    },
    {
      "cell_type": "code",
      "metadata": {
        "id": "2fcK3YS8OKjK"
      },
      "source": [
        "def build_tree(train, max_depth, min_size,\n",
        "               number_of_features):\n",
        "\troot = get_split(train, number_of_features)\n",
        "\tsplit(root, max_depth, min_size, \n",
        "\t      number_of_features, 1)\n",
        "\treturn root"
      ],
      "execution_count": null,
      "outputs": []
    },
    {
      "cell_type": "markdown",
      "metadata": {
        "id": "cf8UPTePMy46"
      },
      "source": [
        "## Prediction"
      ]
    },
    {
      "cell_type": "code",
      "metadata": {
        "id": "tNjFWhXgONOK"
      },
      "source": [
        "def predict(node, row):\n",
        "\tif row[node['index']] > node['value']:\n",
        "\t\tif isinstance(node['right'], dict):\n",
        "\t\t\treturn predict(node['right'], row)\n",
        "\t\telse:\n",
        "\t\t\treturn node['right']\n",
        "\telse:\n",
        "\t\tif isinstance(node['left'], dict):\n",
        "\t\t\treturn predict(node['left'], row)\n",
        "\t\telse:\n",
        "\t\t\treturn node['left']"
      ],
      "execution_count": null,
      "outputs": []
    },
    {
      "cell_type": "code",
      "metadata": {
        "id": "3LYsp_iBOTY-"
      },
      "source": [
        "def bagging_predict(trees, row):\n",
        "\tpredictions = [predict(tree, row) for tree in trees]\n",
        "\treturn max(set(predictions), key=predictions.count)"
      ],
      "execution_count": null,
      "outputs": []
    },
    {
      "cell_type": "markdown",
      "metadata": {
        "id": "UkDW4LrIbYrX"
      },
      "source": [
        "## Random forest implementation"
      ]
    },
    {
      "cell_type": "code",
      "metadata": {
        "id": "aGEm9v7lXK1T"
      },
      "source": [
        "def random_forest(train, test, max_depth,\n",
        "                  min_size,\n",
        "                  n_trees, number_of_features):\n",
        "\ttrees = list()\n",
        "\tfor i in range(n_trees):\n",
        "\t\ttrain_set = list(train)\n",
        "\t\ttree = build_tree(train_set, max_depth, \n",
        "\t\t               min_size, number_of_features)\n",
        "\t\ttrees.append(tree)\n",
        "\tpredictions = [bagging_predict(trees, row) \n",
        "                      for row in test]\n",
        "\treturn(predictions)"
      ],
      "execution_count": null,
      "outputs": []
    },
    {
      "cell_type": "markdown",
      "metadata": {
        "id": "dUDt7fgbcTuO"
      },
      "source": [
        "## Accuracy"
      ]
    },
    {
      "cell_type": "code",
      "metadata": {
        "id": "QMzHTHWsXKAI"
      },
      "source": [
        "def accuracy_metric(actual, predicted):\n",
        "\tcorrect_prediction = 0\n",
        "\tfor i in range(len(actual)):\n",
        "\t\tif actual[i] == predicted[i]:\n",
        "\t\t\tcorrect_prediction += 1\n",
        "\treturn correct_prediction / float(len(actual)) * 100.0"
      ],
      "execution_count": null,
      "outputs": []
    },
    {
      "cell_type": "markdown",
      "metadata": {
        "id": "BJBa-hLTdKbg"
      },
      "source": [
        "## Algorithm evaluation"
      ]
    },
    {
      "cell_type": "code",
      "metadata": {
        "id": "bAMRwDwXVwAt"
      },
      "source": [
        "def algorithm_evaluation(dset, algorithm, n_folds, *args):\n",
        "  dset_split = list()\n",
        "  dset_copy = list(dset)\n",
        "  fold_size = int(len(dset) / n_folds)\n",
        "  test_set = list()\n",
        "  while len(test_set) < fold_size:\n",
        "\t\t\tindex = randrange(len(dset_copy))\n",
        "\t\t\ttest_set.append(dset_copy.pop(index))\n",
        "  train_set = list(dset_copy)\n",
        "  predicted = algorithm(train_set, test_set, *args)\n",
        "  actual = [row[-1] for row in test_set]\n",
        "  accuracy = accuracy_metric(actual, predicted)\n",
        "  return accuracy\n",
        " "
      ],
      "execution_count": null,
      "outputs": []
    },
    {
      "cell_type": "markdown",
      "metadata": {
        "id": "0BP73T3IeTL4"
      },
      "source": [
        "# Testing"
      ]
    },
    {
      "cell_type": "code",
      "metadata": {
        "id": "UNSA9o8OOlNW"
      },
      "source": [
        "n_folds = 5\n",
        "max_depth = 10\n",
        "min_size = 1\n",
        "number_of_features = int((len(dset[0])-1))\n",
        "n_trees = 5"
      ],
      "execution_count": null,
      "outputs": []
    },
    {
      "cell_type": "code",
      "metadata": {
        "id": "Q8BGCmvbHGPn",
        "outputId": "390969f9-48e1-4dc8-ff8c-49b94a90aa99",
        "colab": {
          "base_uri": "https://localhost:8080/"
        }
      },
      "source": [
        "score= algorithm_evaluation(dset, random_forest, n_folds, max_depth,\n",
        "                            min_size, n_trees, number_of_features)\n",
        "print (\"evaluation score: \", score)"
      ],
      "execution_count": null,
      "outputs": [
        {
          "output_type": "stream",
          "text": [
            "evaluation score:  90.0\n"
          ],
          "name": "stdout"
        }
      ]
    },
    {
      "cell_type": "markdown",
      "metadata": {
        "id": "KcOZ08lHzxV-"
      },
      "source": [
        "# Real use on unseen data"
      ]
    },
    {
      "cell_type": "code",
      "metadata": {
        "id": "UiHaRBEkwJx6"
      },
      "source": [
        "testset = []\n",
        "testset =  pd.DataFrame(testset)  \n",
        "patient_medical_record_1 = [{'age': 65.0, 'anaemia': 0.0, 'creatinine_phosphokinase': 146.0, \n",
        "                          'diabetes': 0.0, 'ejection_fraction': 20.0,'high_blood_pressure': 0.0,\n",
        "                          'platelets': 162000.0, 'serum_creatinine': 1.3,'serum_sodium': 129.0,\n",
        "                          'sex': 1.0, 'smoking': 1.0, 'time': 7.0}]\n",
        "testset = testset.append(patient_medical_record_1)\n",
        "patient_medical_record_2 = [{'age': 64.0, 'anaemia': 1.0, 'creatinine_phosphokinase': 5500.0, \n",
        "                          'diabetes': 0.0, 'ejection_fraction': 45.0,'high_blood_pressure': 0.0,\n",
        "                          'platelets': 60000.0, 'serum_creatinine': 7.0,'serum_sodium': 132.0,\n",
        "                          'sex': 0.0, 'smoking': 1.0, 'time': 230.0}]\n",
        "testset = testset.append(patient_medical_record_2)\n",
        "patient_medical_record_3 = [{'age': 72.0, 'anaemia': 0.0, 'creatinine_phosphokinase': 127.0, \n",
        "                          'diabetes': 1.0, 'ejection_fraction': 50.0,'high_blood_pressure': 1.0,\n",
        "                          'platelets': 218000.0, 'serum_creatinine': 1.0,'serum_sodium': 134.0,\n",
        "                          'sex': 1.0, 'smoking': 0.0, 'time': 33.0}]      \n",
        "testset = testset.append(patient_medical_record_3)\n",
        "patient_medical_record_4 = [{'age': 60.0, 'anaemia': 0.0, 'creatinine_phosphokinase': 2656.0, \n",
        "                          'diabetes': 1.0, 'ejection_fraction': 30.0,'high_blood_pressure': 0.0,\n",
        "                          'platelets': 305000.0, 'serum_creatinine': 2.3,'serum_sodium': 137.0,\n",
        "                          'sex': 1.0, 'smoking': 0.0, 'time': 30.0}]\n",
        "testset = testset.append(patient_medical_record_4)\n",
        "patient_medical_record_5 = [{'age': 90.0, 'anaemia': 1.0, 'creatinine_phosphokinase': 47.0, \n",
        "                          'diabetes': 0.0, 'ejection_fraction': 40.0,'high_blood_pressure': 1.0,\n",
        "                          'platelets': 204000.0, 'serum_creatinine': 2.1,'serum_sodium': 132.0,\n",
        "                          'sex': 1.0, 'smoking': 1.0, 'time': 8.0}]\n",
        "testset = testset.append(patient_medical_record_5)\n",
        "testset = testset.values.tolist()"
      ],
      "execution_count": null,
      "outputs": []
    },
    {
      "cell_type": "code",
      "metadata": {
        "id": "F-lZhOYIFAx0",
        "outputId": "62f3b97a-193e-4a23-ef46-df3952ab503d",
        "colab": {
          "base_uri": "https://localhost:8080/"
        }
      },
      "source": [
        "random_forest(dset, testset, 10, 1, 5, int((len(dset[0])-1)))"
      ],
      "execution_count": null,
      "outputs": [
        {
          "output_type": "execute_result",
          "data": {
            "text/plain": [
              "[1.0, 0.0, 0.0, 0.0, 1.0]"
            ]
          },
          "metadata": {
            "tags": []
          },
          "execution_count": 24
        }
      ]
    }
  ]
}